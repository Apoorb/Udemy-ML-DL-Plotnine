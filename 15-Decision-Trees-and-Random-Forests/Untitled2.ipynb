{
 "cells": [
  {
   "cell_type": "code",
   "execution_count": null,
   "id": "classical-radar",
   "metadata": {},
   "outputs": [],
   "source": []
  },
  {
   "cell_type": "code",
   "execution_count": 50,
   "id": "continuing-disability",
   "metadata": {
    "tags": []
   },
   "outputs": [],
   "source": [
    "class Parent:\n",
    "    def __init__(self):\n",
    "    def get_x(self):\n",
    "        print(self.x)"
   ]
  },
  {
   "cell_type": "code",
   "execution_count": 51,
   "id": "allied-compromise",
   "metadata": {},
   "outputs": [],
   "source": [
    "class Child(Parent):\n",
    "    def __init__(self, y, x, **kwargs):\n",
    "        self.y = y\n",
    "        self.x = x\n",
    "        super(Child, self).__init__(**kwargs)\n",
    "    def get_x(self):\n",
    "        print(self.x1)"
   ]
  },
  {
   "cell_type": "code",
   "execution_count": 52,
   "id": "gentle-camera",
   "metadata": {},
   "outputs": [],
   "source": [
    "par = Parent(x=2)"
   ]
  },
  {
   "cell_type": "code",
   "execution_count": 53,
   "id": "periodic-cisco",
   "metadata": {},
   "outputs": [
    {
     "data": {
      "text/plain": [
       "2"
      ]
     },
     "execution_count": 53,
     "metadata": {},
     "output_type": "execute_result"
    }
   ],
   "source": [
    "par.x"
   ]
  },
  {
   "cell_type": "code",
   "execution_count": 57,
   "id": "political-marks",
   "metadata": {},
   "outputs": [
    {
     "ename": "SyntaxError",
     "evalue": "keyword argument repeated: x (C:/Users/a-bibeka/AppData/Local/Temp/xpython_2572/3420680737.py, line 1)",
     "output_type": "error",
     "traceback": [
      "\u001b[0;31m---------------------------------------------------------------------------\u001b[0m\n\u001b[0;31mSyntaxError\u001b[0m                               Traceback (most recent call last)",
      "File \u001b[0;34mC:\\Users\\a-bibeka\\.conda\\envs\\xeus-python\\lib\\site-packages\\IPython\\core\\interactiveshell.py\u001b[0m, in \u001b[0;32mrun_ast_nodes\u001b[0m:\nLine \u001b[0;34m3355\u001b[0m:  code = compiler(mod, cell_name, mode)\n",
      "File \u001b[0;34mC:\\Users\\a-bibeka\\.conda\\envs\\xeus-python\\lib\\codeop.py\u001b[0m, in \u001b[0;32m__call__\u001b[0m:\nLine \u001b[0;34m143\u001b[0m:   codeob = \u001b[36mcompile\u001b[39;49;00m(source, filename, symbol, \u001b[36mself\u001b[39;49;00m.flags, \u001b[34mTrue\u001b[39;49;00m)\n",
      "\u001b[0;31mSyntaxError\u001b[0m: keyword argument repeated: x (C:/Users/a-bibeka/AppData/Local/Temp/xpython_2572/3420680737.py, line 1)\n\u001b[0;31m---------------------------------------------------------------------------\u001b[0m"
     ]
    }
   ],
   "source": [
    "child = Child(y=20, x=2, x=\"2\")"
   ]
  },
  {
   "cell_type": "code",
   "execution_count": 55,
   "id": "charitable-wallet",
   "metadata": {},
   "outputs": [
    {
     "data": {
      "text/plain": [
       "'sf'"
      ]
     },
     "execution_count": 55,
     "metadata": {},
     "output_type": "execute_result"
    }
   ],
   "source": [
    "child.x"
   ]
  },
  {
   "cell_type": "code",
   "execution_count": null,
   "id": "activated-style",
   "metadata": {},
   "outputs": [],
   "source": []
  }
 ],
 "metadata": {
  "kernelspec": {
   "display_name": "Python 3.9 (XPython)",
   "language": "python",
   "name": "xpython"
  },
  "language_info": {
   "file_extension": ".py",
   "mimetype": "text/x-python",
   "name": "python",
   "version": "3.9.1"
  }
 },
 "nbformat": 4,
 "nbformat_minor": 5
}
